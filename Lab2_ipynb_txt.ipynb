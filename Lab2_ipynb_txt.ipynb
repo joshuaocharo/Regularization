{
  "nbformat": 4,
  "nbformat_minor": 0,
  "metadata": {
    "colab": {
      "name": "Lab2.ipynb.txt",
      "provenance": [],
      "collapsed_sections": []
    },
    "kernelspec": {
      "name": "python3",
      "display_name": "Python 3"
    }
  },
  "cells": [
    {
      "cell_type": "code",
      "metadata": {
        "id": "FeJ5qYtLVv3t",
        "colab_type": "code",
        "colab": {}
      },
      "source": [
        "import pandas as pd\n",
        "import numpy as np\n",
        "import matplotlib as plt"
      ],
      "execution_count": 0,
      "outputs": []
    },
    {
      "cell_type": "code",
      "metadata": {
        "id": "nC4XtXIduLRO",
        "colab_type": "code",
        "colab": {}
      },
      "source": [
        "from google.colab import files"
      ],
      "execution_count": 0,
      "outputs": []
    },
    {
      "cell_type": "code",
      "metadata": {
        "id": "7eUSnZxCuPdk",
        "colab_type": "code",
        "colab": {}
      },
      "source": [
        "files.upload()"
      ],
      "execution_count": 0,
      "outputs": []
    },
    {
      "cell_type": "code",
      "metadata": {
        "id": "SGM5Q1AWugOU",
        "colab_type": "code",
        "colab": {}
      },
      "source": [
        "data=pd.read_csv('train_data.csv')"
      ],
      "execution_count": 0,
      "outputs": []
    },
    {
      "cell_type": "code",
      "metadata": {
        "id": "-fpUqG3Nwi5t",
        "colab_type": "code",
        "colab": {}
      },
      "source": [
        "data.head()"
      ],
      "execution_count": 0,
      "outputs": []
    },
    {
      "cell_type": "code",
      "metadata": {
        "id": "mNjFWr15w-Pd",
        "colab_type": "code",
        "colab": {}
      },
      "source": [
        "data.info()"
      ],
      "execution_count": 0,
      "outputs": []
    },
    {
      "cell_type": "code",
      "metadata": {
        "id": "s1BTJBn6xEhP",
        "colab_type": "code",
        "colab": {}
      },
      "source": [
        "data.replace({'?': np.nan,'--':np.nan},inplace=True)#check and replace the ? and - signs with nan values"
      ],
      "execution_count": 0,
      "outputs": []
    },
    {
      "cell_type": "code",
      "metadata": {
        "id": "xa90zTnpxyb0",
        "colab_type": "code",
        "colab": {}
      },
      "source": [
        "#Lets start with the column with least amount of null values which is Electrical\n",
        "data.Electrical.unique() #this gets us the unique values in the column"
      ],
      "execution_count": 0,
      "outputs": []
    },
    {
      "cell_type": "code",
      "metadata": {
        "id": "5dNK0jo6yAF3",
        "colab_type": "code",
        "colab": {}
      },
      "source": [
        "data.Electrical.value_counts()#this gives us the number of each unique value\n",
        "#SBrkr has the most number and hence we assume the empty value should be placed here"
      ],
      "execution_count": 0,
      "outputs": []
    },
    {
      "cell_type": "code",
      "metadata": {
        "id": "PPYICYIQyEba",
        "colab_type": "code",
        "colab": {}
      },
      "source": [
        "data.Electrical.value_counts().plot(kind='barh')\n",
        "#Plot a graph so as to see more\n"
      ],
      "execution_count": 0,
      "outputs": []
    },
    {
      "cell_type": "code",
      "metadata": {
        "id": "F6uHS3rMyeU8",
        "colab_type": "code",
        "colab": {}
      },
      "source": [
        "data[data.Electrical.isnull()]#check and see we only have one empty/nan entry in electrcial"
      ],
      "execution_count": 0,
      "outputs": []
    },
    {
      "cell_type": "code",
      "metadata": {
        "id": "JrWWfqbLzBoL",
        "colab_type": "code",
        "colab": {}
      },
      "source": [
        "data.groupby(['MSSubClass']).Electrical.value_counts()"
      ],
      "execution_count": 0,
      "outputs": []
    },
    {
      "cell_type": "markdown",
      "metadata": {
        "id": "6IP3ex3Wz34U",
        "colab_type": "text"
      },
      "source": [
        "From the above grouping we find that most of houses in the same MSSubclass(80)have Standard Circuit Breakers & Romex as their electrical hence it is safe to add this under the same category"
      ]
    },
    {
      "cell_type": "code",
      "metadata": {
        "id": "O3UI8Ie-yTsD",
        "colab_type": "code",
        "colab": {}
      },
      "source": [
        "data.Electrical.fillna('SBrkr',inplace=True)#fill the missing row with SBrkr"
      ],
      "execution_count": 0,
      "outputs": []
    },
    {
      "cell_type": "code",
      "metadata": {
        "id": "tlMaWcDB0Q9K",
        "colab_type": "code",
        "colab": {}
      },
      "source": [
        "data[data.Electrical.isnull()]#check to see if there any remaining null enetries in the data set under the column Electrcial"
      ],
      "execution_count": 0,
      "outputs": []
    },
    {
      "cell_type": "code",
      "metadata": {
        "id": "ZDAZWeHy0U3W",
        "colab_type": "code",
        "colab": {}
      },
      "source": [
        "data.info()"
      ],
      "execution_count": 0,
      "outputs": []
    },
    {
      "cell_type": "markdown",
      "metadata": {
        "id": "wKE-wbPX0jrU",
        "colab_type": "text"
      },
      "source": [
        "After investigating the data description we discover that most of the columns have the NA property to imply not available. \n",
        "Python has interpretead most as np.nan hence we have to investigate each null column to see if it truly is null or just miss interprated"
      ]
    },
    {
      "cell_type": "code",
      "metadata": {
        "id": "FEnskN8M1BX3",
        "colab_type": "code",
        "colab": {}
      },
      "source": [
        "#let's start with LotFrontage\n",
        "data[data.LotFrontage.isnull()]"
      ],
      "execution_count": 0,
      "outputs": []
    },
    {
      "cell_type": "code",
      "metadata": {
        "id": "NItP83Gs0gH_",
        "colab_type": "code",
        "colab": {}
      },
      "source": [
        "data.LotFrontage.unique()"
      ],
      "execution_count": 0,
      "outputs": []
    },
    {
      "cell_type": "code",
      "metadata": {
        "id": "FX64rORK1N4B",
        "colab_type": "code",
        "colab": {}
      },
      "source": [
        "data.groupby(['MSZoning']).LotFrontage.median().plot(kind='barh')"
      ],
      "execution_count": 0,
      "outputs": []
    },
    {
      "cell_type": "code",
      "metadata": {
        "id": "RSU3lf-V1k5l",
        "colab_type": "code",
        "colab": {}
      },
      "source": [
        "#hence using the relationship between the zoning area we use the median as a mean of predicting what values we should imput for the groups\n",
        "data.groupby(['MSZoning']).LotFrontage.median()"
      ],
      "execution_count": 0,
      "outputs": []
    },
    {
      "cell_type": "code",
      "metadata": {
        "id": "9Whm9kzk3CzM",
        "colab_type": "code",
        "colab": {}
      },
      "source": [
        "data[data.MSZoning=='RM'].LotFrontage.value_counts()"
      ],
      "execution_count": 0,
      "outputs": []
    },
    {
      "cell_type": "code",
      "metadata": {
        "id": "1UuK2gUk3XEx",
        "colab_type": "code",
        "colab": {}
      },
      "source": [
        "data.MSZoning.value_counts()"
      ],
      "execution_count": 0,
      "outputs": []
    },
    {
      "cell_type": "code",
      "metadata": {
        "id": "SQjE08u16nBq",
        "colab_type": "code",
        "colab": {}
      },
      "source": [
        "data.info()"
      ],
      "execution_count": 0,
      "outputs": []
    },
    {
      "cell_type": "code",
      "metadata": {
        "id": "trXRifLm70J2",
        "colab_type": "code",
        "colab": {}
      },
      "source": [
        "data[data.Alley.isnull()]"
      ],
      "execution_count": 0,
      "outputs": []
    },
    {
      "cell_type": "code",
      "metadata": {
        "id": "c5EedIzW_gZk",
        "colab_type": "code",
        "colab": {}
      },
      "source": [
        "data.replace({'Alley':{np.nan: 'None'}},inplace=True)"
      ],
      "execution_count": 0,
      "outputs": []
    },
    {
      "cell_type": "code",
      "metadata": {
        "id": "AUqLjI6eF32i",
        "colab_type": "code",
        "colab": {}
      },
      "source": [
        "data[data.Alley.isnull()]"
      ],
      "execution_count": 0,
      "outputs": []
    },
    {
      "cell_type": "code",
      "metadata": {
        "id": "8HpXVEQsF61w",
        "colab_type": "code",
        "colab": {}
      },
      "source": [
        "data.info()"
      ],
      "execution_count": 0,
      "outputs": []
    },
    {
      "cell_type": "code",
      "metadata": {
        "id": "VKEZa9OfF94V",
        "colab_type": "code",
        "colab": {}
      },
      "source": [
        "data[data.BsmtQual.isnull()]"
      ],
      "execution_count": 0,
      "outputs": []
    },
    {
      "cell_type": "markdown",
      "metadata": {
        "id": "KsXiN4Q-HLuZ",
        "colab_type": "text"
      },
      "source": [
        "From the above table we can conclude that there exists no basement in this house\n",
        "As described also in the data description NA is no basement and henc it'll be safe to replace no basment to the Nan rows\n"
      ]
    },
    {
      "cell_type": "code",
      "metadata": {
        "id": "3B8M8gqCG3f7",
        "colab_type": "code",
        "colab": {}
      },
      "source": [
        "data.replace({'BsmtQual':  { np.nan : 'None'}},inplace=True)"
      ],
      "execution_count": 0,
      "outputs": []
    },
    {
      "cell_type": "code",
      "metadata": {
        "id": "9v3rDxCTHnSh",
        "colab_type": "code",
        "colab": {}
      },
      "source": [
        "data.info()"
      ],
      "execution_count": 0,
      "outputs": []
    },
    {
      "cell_type": "markdown",
      "metadata": {
        "id": "AKayJPirH87T",
        "colab_type": "text"
      },
      "source": [
        "The same should be done to the basement Condition"
      ]
    },
    {
      "cell_type": "code",
      "metadata": {
        "id": "1ARfyrXfHpaf",
        "colab_type": "code",
        "colab": {}
      },
      "source": [
        "data.replace({'BsmtCond':   {np.nan: 'None' }},inplace=True)"
      ],
      "execution_count": 0,
      "outputs": []
    },
    {
      "cell_type": "code",
      "metadata": {
        "id": "f0MTJz6AIL4f",
        "colab_type": "code",
        "colab": {}
      },
      "source": [
        "data.info()"
      ],
      "execution_count": 0,
      "outputs": []
    },
    {
      "cell_type": "code",
      "metadata": {
        "id": "WtsMBzzuIPGy",
        "colab_type": "code",
        "colab": {}
      },
      "source": [
        "data[data.BsmtExposure.isnull()]"
      ],
      "execution_count": 0,
      "outputs": []
    },
    {
      "cell_type": "code",
      "metadata": {
        "id": "uIWyefyJIVgr",
        "colab_type": "code",
        "colab": {}
      },
      "source": [
        "#Not so fast we do find that in row 948 there exists a basment hence we have to be careful on BsmtExposure\n",
        "#so let's check for a relationship so we can assign it the next best value\n",
        "groups=data.groupby(['BsmtQual','BsmtCond','BsmtFinType1']).BsmtExposure.value_counts()"
      ],
      "execution_count": 0,
      "outputs": []
    },
    {
      "cell_type": "markdown",
      "metadata": {
        "id": "skQgucFeLi3l",
        "colab_type": "text"
      },
      "source": [
        "From the above grouping we can see that having a Gd BsmtExposure and TA BsmtCondition has high chances that Bsmnt Exposure is None"
      ]
    },
    {
      "cell_type": "code",
      "metadata": {
        "id": "-ZZtwSYEIoMH",
        "colab_type": "code",
        "colab": {}
      },
      "source": [
        "#if we group it further we can see that including the Basement finish 1 we can solidly say it's probably right to give no exposure on this one \n",
        "with pd.option_context('display.max_rows', None, 'display.max_columns', None):\n",
        "    print (groups)"
      ],
      "execution_count": 0,
      "outputs": []
    },
    {
      "cell_type": "code",
      "metadata": {
        "id": "RpSbSFZdLCcB",
        "colab_type": "code",
        "colab": {}
      },
      "source": [
        "#we specifically pick the row and hence assign the value\n",
        "data.loc[948,'BsmtExposure']='No'"
      ],
      "execution_count": 0,
      "outputs": []
    },
    {
      "cell_type": "code",
      "metadata": {
        "id": "hCF2ny0cNvGX",
        "colab_type": "code",
        "colab": {}
      },
      "source": [
        "#for the rest let us change the NaaN value to NoBas\n",
        "data.replace({'BsmtExposure':{np.nan: 'NoBas'}},inplace=True)"
      ],
      "execution_count": 0,
      "outputs": []
    },
    {
      "cell_type": "code",
      "metadata": {
        "id": "fBH0QcwPOHsO",
        "colab_type": "code",
        "colab": {}
      },
      "source": [
        "data.info()"
      ],
      "execution_count": 0,
      "outputs": []
    },
    {
      "cell_type": "code",
      "metadata": {
        "id": "hJk6xsy_OJUK",
        "colab_type": "code",
        "colab": {}
      },
      "source": [
        "data[data.BsmtFinType1.isnull()]"
      ],
      "execution_count": 0,
      "outputs": []
    },
    {
      "cell_type": "code",
      "metadata": {
        "id": "fBG3U7d5OReD",
        "colab_type": "code",
        "colab": {}
      },
      "source": [
        "data.replace({'BsmtFinType1':{np.nan: 'None'}},inplace=True)"
      ],
      "execution_count": 0,
      "outputs": []
    },
    {
      "cell_type": "code",
      "metadata": {
        "id": "f-hw8UKfPSES",
        "colab_type": "code",
        "colab": {}
      },
      "source": [
        "data.info()"
      ],
      "execution_count": 0,
      "outputs": []
    },
    {
      "cell_type": "markdown",
      "metadata": {
        "id": "t9YK3LGcP1Q3",
        "colab_type": "text"
      },
      "source": [
        "We can get the basment Finish Type 2 from looking at the Finish Square feet if this value is zero it's assumed you don have a Bsmt Finish 2"
      ]
    },
    {
      "cell_type": "code",
      "metadata": {
        "id": "A23F7PFYPgvs",
        "colab_type": "code",
        "colab": {}
      },
      "source": [
        "data[data.BsmtFinType2.isnull()]"
      ],
      "execution_count": 0,
      "outputs": []
    },
    {
      "cell_type": "markdown",
      "metadata": {
        "id": "a4mvQ9JiQWgX",
        "colab_type": "text"
      },
      "source": [
        "We find another anormally we have to deal with row 332\n",
        "It has a Finsishint 2 square foot but nothing has been filled in for Bsmt Finish 2 Type.\n",
        "We can assume by grouping it according to it's Bsmt Finish type 1"
      ]
    },
    {
      "cell_type": "code",
      "metadata": {
        "id": "FmRv_p12QKYL",
        "colab_type": "code",
        "colab": {}
      },
      "source": [
        "groupings=data.groupby(['BsmtQual','BsmtCond','BsmtFinType1']).BsmtFinType2.value_counts()\n",
        "with pd.option_context('display.max_rows', None, 'display.max_columns', None):\n",
        "    print (groupings)"
      ],
      "execution_count": 0,
      "outputs": []
    },
    {
      "cell_type": "code",
      "metadata": {
        "id": "nPCx4FQNQ7y2",
        "colab_type": "code",
        "colab": {}
      },
      "source": [
        "#we setlle for unfinished as per the data given above\n",
        "#hence\n",
        "data.loc[332,'BsmtFinType2']='Unf'"
      ],
      "execution_count": 0,
      "outputs": []
    },
    {
      "cell_type": "code",
      "metadata": {
        "id": "eafYMNJZVJZW",
        "colab_type": "code",
        "colab": {}
      },
      "source": [
        "data[data.BsmtFinType2.isnull()]"
      ],
      "execution_count": 0,
      "outputs": []
    },
    {
      "cell_type": "code",
      "metadata": {
        "id": "eTkdzEFyVOZA",
        "colab_type": "code",
        "colab": {}
      },
      "source": [
        "data.replace({'BsmtFinType2':{np.nan:'None'}},inplace=True)"
      ],
      "execution_count": 0,
      "outputs": []
    },
    {
      "cell_type": "code",
      "metadata": {
        "id": "6dY6KWHBVotD",
        "colab_type": "code",
        "colab": {}
      },
      "source": [
        "data.info()"
      ],
      "execution_count": 0,
      "outputs": []
    },
    {
      "cell_type": "code",
      "metadata": {
        "id": "yGFirgtOVvv5",
        "colab_type": "code",
        "colab": {}
      },
      "source": [
        "data[data.MasVnrType.isnull()]"
      ],
      "execution_count": 0,
      "outputs": []
    },
    {
      "cell_type": "code",
      "metadata": {
        "id": "ZB71kUYpV5cq",
        "colab_type": "code",
        "colab": {}
      },
      "source": [
        "exteriorlists=data.groupby(['YearBuilt','Exterior1st','Exterior2nd']).MasVnrType.value_counts()\n",
        "with pd.option_context('display.max_rows', None, 'display.max_columns', None):\n",
        "    print (exteriorlists)"
      ],
      "execution_count": 0,
      "outputs": []
    },
    {
      "cell_type": "code",
      "metadata": {
        "id": "MPMciTp1WQmK",
        "colab_type": "code",
        "colab": {}
      },
      "source": [
        "data.MasVnrType.value_counts()"
      ],
      "execution_count": 0,
      "outputs": []
    },
    {
      "cell_type": "code",
      "metadata": {
        "id": "KWGbOO4nZ0do",
        "colab_type": "code",
        "colab": {}
      },
      "source": [
        "data.replace({'MasVnrType': {np.nan: ' None'}},inplace=True)"
      ],
      "execution_count": 0,
      "outputs": []
    },
    {
      "cell_type": "code",
      "metadata": {
        "id": "3TJmAm2uaUeW",
        "colab_type": "code",
        "colab": {}
      },
      "source": [
        "data.MasVnrArea.value_counts()"
      ],
      "execution_count": 0,
      "outputs": []
    },
    {
      "cell_type": "code",
      "metadata": {
        "id": "fcBCvJ0raf77",
        "colab_type": "code",
        "colab": {}
      },
      "source": [
        "data.replace({'MasVnrArea':{np.nan: 0.0}},inplace=True)"
      ],
      "execution_count": 0,
      "outputs": []
    },
    {
      "cell_type": "code",
      "metadata": {
        "id": "GyJi5enVbymM",
        "colab_type": "code",
        "colab": {}
      },
      "source": [
        "data.info()"
      ],
      "execution_count": 0,
      "outputs": []
    },
    {
      "cell_type": "code",
      "metadata": {
        "id": "YOZqzlVKb4Mr",
        "colab_type": "code",
        "colab": {}
      },
      "source": [
        "featurez=data[data.MiscFeature.isnull()]\n",
        "featurez"
      ],
      "execution_count": 0,
      "outputs": []
    },
    {
      "cell_type": "code",
      "metadata": {
        "id": "RNWrEI12cJ7e",
        "colab_type": "code",
        "colab": {}
      },
      "source": [
        "data.loc[data.MiscFeature=='Shed','MiscVal']"
      ],
      "execution_count": 0,
      "outputs": []
    },
    {
      "cell_type": "code",
      "metadata": {
        "id": "pludbJDucupB",
        "colab_type": "code",
        "colab": {}
      },
      "source": [
        "data.replace({'MiscFeature':{np.nan: 'None'}},inplace=True)"
      ],
      "execution_count": 0,
      "outputs": []
    },
    {
      "cell_type": "code",
      "metadata": {
        "id": "4XjWX0_7fLbN",
        "colab_type": "code",
        "colab": {}
      },
      "source": [
        "data.info()"
      ],
      "execution_count": 0,
      "outputs": []
    },
    {
      "cell_type": "code",
      "metadata": {
        "id": "NGG3mkpafNIe",
        "colab_type": "code",
        "colab": {}
      },
      "source": [
        "data.replace({'Fence':{np.nan:'None'}},inplace=True)"
      ],
      "execution_count": 0,
      "outputs": []
    },
    {
      "cell_type": "code",
      "metadata": {
        "id": "6C_LgnnCfaxl",
        "colab_type": "code",
        "colab": {}
      },
      "source": [
        "data.info()"
      ],
      "execution_count": 0,
      "outputs": []
    },
    {
      "cell_type": "code",
      "metadata": {
        "id": "PxXT1WpHfcZ8",
        "colab_type": "code",
        "colab": {}
      },
      "source": [
        "data[data.PoolQC.isnull()]"
      ],
      "execution_count": 0,
      "outputs": []
    },
    {
      "cell_type": "code",
      "metadata": {
        "id": "Bwkphk2fftpv",
        "colab_type": "code",
        "colab": {}
      },
      "source": [
        "data.replace({'PoolQC':{np.nan:'No Pool'}},inplace=True)"
      ],
      "execution_count": 0,
      "outputs": []
    },
    {
      "cell_type": "code",
      "metadata": {
        "id": "kHc7SYXMgJJR",
        "colab_type": "code",
        "colab": {}
      },
      "source": [
        "data.info()"
      ],
      "execution_count": 0,
      "outputs": []
    },
    {
      "cell_type": "code",
      "metadata": {
        "id": "zSIw7wS0gKst",
        "colab_type": "code",
        "colab": {}
      },
      "source": [
        "garages=data[data.GarageArea== 0].GarageArea\n",
        "with pd.option_context('display.max_rows', None, 'display.max_columns', None):\n",
        "    print (garages)\n"
      ],
      "execution_count": 0,
      "outputs": []
    },
    {
      "cell_type": "code",
      "metadata": {
        "id": "ifLY9NAkgg_a",
        "colab_type": "code",
        "colab": {}
      },
      "source": [
        "# data[data.GarageArea== 0].replace({'GarageType':{np.nan: 'None'}},inplace=True)\n",
        "data.loc[data.GarageArea ==0,'GarageType']='None'"
      ],
      "execution_count": 0,
      "outputs": []
    },
    {
      "cell_type": "code",
      "metadata": {
        "id": "LFOjOHp08eyZ",
        "colab_type": "code",
        "colab": {}
      },
      "source": [
        "data.info()"
      ],
      "execution_count": 0,
      "outputs": []
    },
    {
      "cell_type": "code",
      "metadata": {
        "id": "kyr-MQOf86Ii",
        "colab_type": "code",
        "colab": {}
      },
      "source": [
        "data.loc[data.GarageArea==0,'GarageYrBlt']= 0000.0# we fill in the year built as 0000 we will exclude this datatypes when calculating "
      ],
      "execution_count": 0,
      "outputs": []
    },
    {
      "cell_type": "code",
      "metadata": {
        "id": "TyZlcTKi9vSo",
        "colab_type": "code",
        "colab": {}
      },
      "source": [
        "data.info()"
      ],
      "execution_count": 0,
      "outputs": []
    },
    {
      "cell_type": "code",
      "metadata": {
        "id": "ca63E_LQ-GQH",
        "colab_type": "code",
        "colab": {}
      },
      "source": [
        "data.loc[data.GarageArea==0,'GarageCond']='None'"
      ],
      "execution_count": 0,
      "outputs": []
    },
    {
      "cell_type": "code",
      "metadata": {
        "id": "H_kgvIP--Z82",
        "colab_type": "code",
        "colab": {}
      },
      "source": [
        "data.info()"
      ],
      "execution_count": 0,
      "outputs": []
    },
    {
      "cell_type": "code",
      "metadata": {
        "id": "oInUvzzl-buf",
        "colab_type": "code",
        "colab": {}
      },
      "source": [
        "data.loc[data.GarageArea==0,'GarageQual']='None'"
      ],
      "execution_count": 0,
      "outputs": []
    },
    {
      "cell_type": "code",
      "metadata": {
        "id": "RkdOWLzo-4O0",
        "colab_type": "code",
        "colab": {}
      },
      "source": [
        "data.info()"
      ],
      "execution_count": 0,
      "outputs": []
    },
    {
      "cell_type": "code",
      "metadata": {
        "id": "sVq8YM-5-56e",
        "colab_type": "code",
        "colab": {}
      },
      "source": [
        "data.loc[data.GarageArea==0,'GarageFinish']='None'"
      ],
      "execution_count": 0,
      "outputs": []
    },
    {
      "cell_type": "code",
      "metadata": {
        "id": "4y64e7f4_JOx",
        "colab_type": "code",
        "colab": {}
      },
      "source": [
        "data.info()"
      ],
      "execution_count": 0,
      "outputs": []
    },
    {
      "cell_type": "code",
      "metadata": {
        "id": "a4UZxV7_BXgq",
        "colab_type": "code",
        "colab": {}
      },
      "source": [
        "data[data.FireplaceQu.isnull()]"
      ],
      "execution_count": 0,
      "outputs": []
    },
    {
      "cell_type": "code",
      "metadata": {
        "id": "pPF4plAVBmKF",
        "colab_type": "code",
        "colab": {}
      },
      "source": [
        "data.loc[data.Fireplaces==0,'FireplaceQu']='None'"
      ],
      "execution_count": 0,
      "outputs": []
    },
    {
      "cell_type": "code",
      "metadata": {
        "id": "ODr8vwpqB1xz",
        "colab_type": "code",
        "colab": {}
      },
      "source": [
        "data.info()"
      ],
      "execution_count": 0,
      "outputs": []
    },
    {
      "cell_type": "code",
      "metadata": {
        "id": "UvhqOzCnB82n",
        "colab_type": "code",
        "colab": {}
      },
      "source": [
        "data[data.LotFrontage.isnull()]"
      ],
      "execution_count": 0,
      "outputs": []
    },
    {
      "cell_type": "code",
      "metadata": {
        "id": "KnYTgpUiCh8X",
        "colab_type": "code",
        "colab": {}
      },
      "source": [
        "data.groupby(['MSZoning','MSSubClass']).LotFrontage.median()"
      ],
      "execution_count": 0,
      "outputs": []
    },
    {
      "cell_type": "code",
      "metadata": {
        "id": "FIgTrDxqC2bm",
        "colab_type": "code",
        "colab": {}
      },
      "source": [
        "data.LotFrontage.median()"
      ],
      "execution_count": 0,
      "outputs": []
    },
    {
      "cell_type": "code",
      "metadata": {
        "id": "bOxQgZ0QGtxa",
        "colab_type": "code",
        "colab": {}
      },
      "source": [
        "data.LotFrontage.fillna(method='pad',inplace=True)"
      ],
      "execution_count": 0,
      "outputs": []
    },
    {
      "cell_type": "code",
      "metadata": {
        "id": "dtSefQpTHKSs",
        "colab_type": "code",
        "colab": {}
      },
      "source": [
        "data.LotFrontage.median()"
      ],
      "execution_count": 0,
      "outputs": []
    },
    {
      "cell_type": "code",
      "metadata": {
        "id": "KXWUnVY-HN2o",
        "colab_type": "code",
        "colab": {}
      },
      "source": [
        "data.LotFrontage.mean()"
      ],
      "execution_count": 0,
      "outputs": []
    },
    {
      "cell_type": "code",
      "metadata": {
        "id": "wSSUy-12HRXy",
        "colab_type": "code",
        "colab": {}
      },
      "source": [
        "data.info()"
      ],
      "execution_count": 0,
      "outputs": []
    },
    {
      "cell_type": "code",
      "metadata": {
        "id": "Q8pR0vT_HUuz",
        "colab_type": "code",
        "colab": {}
      },
      "source": [
        "from sklearn.decomposition import PCA\n",
        "from sklearn.preprocessing import StandardScaler\n",
        "from sklearn.linear_model import LassoCV"
      ],
      "execution_count": 0,
      "outputs": []
    },
    {
      "cell_type": "code",
      "metadata": {
        "id": "AdJhUZRuMBpQ",
        "colab_type": "code",
        "colab": {}
      },
      "source": [
        "nominal=['Alley','LotConfig','Neighborhood','BldgType','RoofStyle','RoofMatl','Exterior1st','Exterior2nd','MasVnrType','Foundation','Heating','GarageType','MiscFeature']\n",
        "ordinal=['MSZoning','Street','LotShape','LandContour','LandSlope','Utilities','Condition1','Condition2','HouseStyle','ExterQual','ExterCond','BsmtQual','BsmtCond','BsmtExposure','BsmtFinType1','BsmtFinType2','HeatingQC','CentralAir','Electrical','KitchenQual','Functional','FireplaceQu','GarageFinish','GarageQual','GarageCond','PavedDrive','PoolQC','Fence','SaleType','SaleCondition']\n",
        "numerical=['MSSubClass','YearBuilt','OverallQual','OverallCond','MasVnrArea','BsmtFinSF1','BsmtFinSF2','BsmtUnfSF','YearRemodAdd','LotFrontage','LotArea','TotalBsmtSF','1stFlrSF','2ndFlrSF','LowQualFinSF','GrLivArea','BsmtFullBath','BsmtHalfBath','FullBath','HalfBath','BedroomAbvGr','KitchenAbvGr','TotRmsAbvGrd','Fireplaces','GarageYrBlt','GarageCars','GarageArea','WoodDeckSF','OpenPorchSF','EnclosedPorch','3SsnPorch','ScreenPorch','PoolArea','MiscVal','MoSold','YrSold']\n",
        "target=['SalePrice']\n",
        "categorical_data=data.select_dtypes(include=['object']).copy()\n",
        "categorical_data"
      ],
      "execution_count": 0,
      "outputs": []
    },
    {
      "cell_type": "code",
      "metadata": {
        "id": "42EGRe_wZD1P",
        "colab_type": "code",
        "colab": {}
      },
      "source": [
        "categorical_data.columns"
      ],
      "execution_count": 0,
      "outputs": []
    },
    {
      "cell_type": "code",
      "metadata": {
        "id": "l0aBVzWMZObn",
        "colab_type": "code",
        "colab": {}
      },
      "source": [
        "column_names=list(categorical_data.columns)"
      ],
      "execution_count": 0,
      "outputs": []
    },
    {
      "cell_type": "code",
      "metadata": {
        "id": "3LmZRSiNZUu8",
        "colab_type": "code",
        "colab": {}
      },
      "source": [
        "column_names"
      ],
      "execution_count": 0,
      "outputs": []
    },
    {
      "cell_type": "code",
      "metadata": {
        "id": "4n9TjDU3ZWYH",
        "colab_type": "code",
        "colab": {}
      },
      "source": [
        "for features in column_names:\n",
        "  categorical_data[features]=categorical_data[features].astype('category')"
      ],
      "execution_count": 0,
      "outputs": []
    },
    {
      "cell_type": "code",
      "metadata": {
        "id": "NCcRSvtaZbD4",
        "colab_type": "code",
        "colab": {}
      },
      "source": [
        "for features in ordinal:\n",
        "  categorical_data[features]=categorical_data[features].cat.codes\n"
      ],
      "execution_count": 0,
      "outputs": []
    },
    {
      "cell_type": "code",
      "metadata": {
        "id": "R95tCi9iZeW-",
        "colab_type": "code",
        "colab": {}
      },
      "source": [
        "categorical_data.head()"
      ],
      "execution_count": 0,
      "outputs": []
    },
    {
      "cell_type": "code",
      "metadata": {
        "id": "Z-aPX17QahLk",
        "colab_type": "code",
        "colab": {}
      },
      "source": [
        "data_copy=categorical_data.copy()\n",
        "data_copy=pd.concat([pd.get_dummies(data_copy[nominal]),data_copy],axis=1)\n",
        "data_copy.drop(nominal,axis=1,inplace=True)\n",
        "data_copy\n",
        "\n",
        "new_data=pd.concat([data_copy,data[numerical],data[target]],axis=1)\n",
        "new_data\n"
      ],
      "execution_count": 0,
      "outputs": []
    },
    {
      "cell_type": "code",
      "metadata": {
        "id": "CpeKoDGua2A5",
        "colab_type": "code",
        "colab": {}
      },
      "source": [
        "X=new_data.drop('SalePrice',1)\n",
        "data_array=X.to_numpy()\n",
        "data_array"
      ],
      "execution_count": 0,
      "outputs": []
    },
    {
      "cell_type": "code",
      "metadata": {
        "id": "QWG82t_Ibhqf",
        "colab_type": "code",
        "colab": {}
      },
      "source": [
        "all_features=list(data_copy.columns)\n",
        "X=new_data.loc[:,all_features].values\n",
        "y=new_data.loc[:,'SalePrice'].values\n",
        "X"
      ],
      "execution_count": 0,
      "outputs": []
    },
    {
      "cell_type": "code",
      "metadata": {
        "id": "KEFXwNkBdg-M",
        "colab_type": "code",
        "colab": {}
      },
      "source": [
        "X=StandardScaler().fit_transform(X)\n",
        "X"
      ],
      "execution_count": 0,
      "outputs": []
    },
    {
      "cell_type": "code",
      "metadata": {
        "id": "s7h_gLiMdtgC",
        "colab_type": "code",
        "colab": {}
      },
      "source": [
        "pca=PCA(n_components=2)\n",
        "pca_s=pca.fit_transform(X)\n",
        "pca_data=pd.DataFrame(pca_s,columns=['PC1','PC2'])\n",
        "final_data=pd.concat([pca_data,data[target]],axis=1)\n",
        "\n",
        "final_data\n"
      ],
      "execution_count": 0,
      "outputs": []
    },
    {
      "cell_type": "code",
      "metadata": {
        "id": "6FO20rF9dzya",
        "colab_type": "code",
        "colab": {}
      },
      "source": [
        "pca.explained_variance_ratio_"
      ],
      "execution_count": 0,
      "outputs": []
    },
    {
      "cell_type": "code",
      "metadata": {
        "id": "MYuVc4mFI8RP",
        "colab_type": "code",
        "colab": {}
      },
      "source": [
        "pca=PCA(0.9)"
      ],
      "execution_count": 0,
      "outputs": []
    },
    {
      "cell_type": "markdown",
      "metadata": {
        "id": "9bwVbo27ecnT",
        "colab_type": "text"
      },
      "source": [
        "The two Principal Components carry "
      ]
    },
    {
      "cell_type": "code",
      "metadata": {
        "id": "2f6p6FlceWaT",
        "colab_type": "code",
        "colab": {}
      },
      "source": [
        "features=['Alley','LotConfig','Neighborhood','BldgType','RoofStyle','RoofMatl','Exterior1st','Exterior2nd','MasVnrType','Foundation','Heating','GarageType','MiscFeature','MSZoning','Street','LotShape','LandContour','LandSlope','Utilities','Condition1','Condition2','HouseStyle','ExterQual','ExterCond','BsmtQual','BsmtCond','BsmtExposure','BsmtFinType1','BsmtFinType2','HeatingQC','CentralAir','Electrical','KitchenQual','Functional','FireplaceQu','GarageFinish','GarageQual','GarageCond','PavedDrive','PoolQC','Fence','SaleType','SaleCondition','MSSubClass','YearBuilt','OverallQual','OverallCond','MasVnrArea','BsmtFinSF1','BsmtFinSF2','BsmtUnfSF','YearRemodAdd','LotFrontage','LotArea','TotalBsmtSF','1stFlrSF','2ndFlrSF','LowQualFinSF','GrLivArea','BsmtFullBath','BsmtHalfBath','FullBath','HalfBath','BedroomAbvGr','KitchenAbvGr','TotRmsAbvGrd','Fireplaces','GarageYrBlt','GarageCars','GarageArea','WoodDeckSF','OpenPorchSF','EnclosedPorch','3SsnPorch','ScreenPorch','PoolArea','MiscVal','MoSold','YrSold']\n",
        "X=data.loc[:,features].values\n",
        "target=['SalePrice']\n",
        "y=data.loc[:,target].values\n",
        "y"
      ],
      "execution_count": 0,
      "outputs": []
    },
    {
      "cell_type": "code",
      "metadata": {
        "id": "k_nJFJ3euftd",
        "colab_type": "code",
        "colab": {}
      },
      "source": [
        "import matplotlib.pyplot as plt\n",
        "from mpl_toolkits.mplot3d import Axes3D"
      ],
      "execution_count": 0,
      "outputs": []
    },
    {
      "cell_type": "code",
      "metadata": {
        "id": "cCJ6ssBUvJds",
        "colab_type": "code",
        "outputId": "7526466c-39ca-4e84-f46d-fbb251fd1bc3",
        "colab": {
          "base_uri": "https://localhost:8080/",
          "height": 265
        }
      },
      "source": [
        "fig = plt.figure()\n",
        "ax = fig.add_subplot(111, projection='3d')\n",
        "xs = pca_data\n",
        "ys = pca_data\n",
        "\n",
        "ax.scatter(xs,ys)\n"
      ],
      "execution_count": 0,
      "outputs": [
        {
          "output_type": "execute_result",
          "data": {
            "text/plain": [
              "<mpl_toolkits.mplot3d.art3d.Path3DCollection at 0x7fbf54decac8>"
            ]
          },
          "metadata": {
            "tags": []
          },
          "execution_count": 47
        },
        {
          "output_type": "display_data",
          "data": {
            "image/png": "[encoded data removed]",
            "text/plain": [
              "<Figure size 432x288 with 1 Axes>"
            ]
          },
          "metadata": {
            "tags": [],
            "needs_background": "light"
          }
        }
      ]
    }
  ]
}